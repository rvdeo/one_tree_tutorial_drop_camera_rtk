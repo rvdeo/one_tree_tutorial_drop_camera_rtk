{
 "cells": [
  {
   "cell_type": "markdown",
   "metadata": {},
   "source": [
    "# An introduction to Python \n",
    "\n",
    "Python is a high-level, versatile, and widely-used programming language known for its readability and simplicity. It's employed in diverse domains, including web development with frameworks like Django and Flask, data science and machine learning through libraries like NumPy and scikit-learn, scientific computing, automation, game development with Pygame, and more. Its clean syntax and indentation-based code structure make it accessible to developers of all levels, while its open-source nature and extensive community support have contributed to its widespread popularity and practicality across a wide range of applications.\n",
    "\n",
    "## Python Environments\n",
    "Python environments are configurations in which Python code is executed. They include the global Python environment, which is the default system-wide installation, and virtual environments, which are isolated spaces for project-specific packages. Conda environments and containerized environments provide further isolation and management of dependencies, while integrated development environments (IDEs) often offer built-in tools for environment and dependency management. These environments are crucial for maintaining code integrity, managing project-specific dependencies, and ensuring consistent execution of code across different systems, making them essential for developers working on multiple projects and in complex development scenarios.\n",
    "\n",
    "[Anaconda](https://anaconda.cloud/)\n",
    "[Google colabs](https://research.google.com/colaboratory/), \n",
    "Native Installation https://jupyterlab.readthedocs.io/en/stable/getting_started/installation.html\n",
    "\n",
    "As you can see, a Jupyter's notebook is a combination of text and code (or _command_) cell. You can type and run any command in the code cell (or prompt) by double click onto it. "
   ]
  },
  {
   "cell_type": "code",
   "execution_count": 1,
   "metadata": {},
   "outputs": [],
   "source": [
    "#THIS IS A COMMAND CELL. \n",
    "#YOU CAN WRITE YOUR CODE HERE.\n",
    "#TO RUN YOUR CODE PRESS \"SHIFT-ENTER\" ON YOUR KEYBOARD \n",
    "#OR PRESS THE \"RUN BOTTOM\" IN THE TOOLBAR"
   ]
  },
  {
   "cell_type": "markdown",
   "metadata": {},
   "source": [
    "\n",
    "Jupyter interprets every word in a code cell as code unless the line starts with the symbol `#.` In python, the hashtag means _\"ignore everything in this line\"_ and therefore, it is used to add comments in the actual Python code.\n",
    "\n",
    "An example is given below:"
   ]
  },
  {
   "cell_type": "code",
   "execution_count": 2,
   "metadata": {},
   "outputs": [],
   "source": [
    "#This is just a comment\n",
    "x=2 #this is another comment"
   ]
  },
  {
   "cell_type": "markdown",
   "metadata": {},
   "source": [
    "In the example above the only command that Python executes is to set the variable _x_ to be equal to 2 (`x=2`) and it ignores every word after \"#\". \n",
    "\n",
    "# Python as a Calculator\n",
    "\n",
    "## Let us introduce the primary command in Python by simply considering it as a calculator.\n",
    "\n",
    "\n",
    "You can use a code cell to execute any numerical operation between numbers and print the result.  \n",
    "The syntax for numerical operations is straightforward: **+**, **-**, **\\***, **/**. You can use round parenthesis for grouping as well.\n",
    "\n",
    "**Run the command in the cell below for an example**\n",
    "<a id='as_calculator'></a>"
   ]
  },
  {
   "cell_type": "code",
   "execution_count": 3,
   "metadata": {},
   "outputs": [
    {
     "data": {
      "text/plain": [
       "14.0"
      ]
     },
     "execution_count": 3,
     "metadata": {},
     "output_type": "execute_result"
    }
   ],
   "source": [
    "#Example 1: \n",
    "((4+5)-(14/7))*2\n",
    " "
   ]
  },
  {
   "cell_type": "code",
   "execution_count": 4,
   "metadata": {},
   "outputs": [],
   "source": [
    "# Exercise:\n",
    "#You can use this command cell for trying any operation you like"
   ]
  },
  {
   "cell_type": "markdown",
   "metadata": {},
   "source": [
    "In the above example, the code does not \"save\" the result in any variable, but it just prints the value as output. \n",
    "\n",
    "When you write code, you often need to do several calculations and use the value later. To do this, you need to assign the operation result into a variable. \n",
    "\n",
    "Run the code in the cell below"
   ]
  },
  {
   "cell_type": "code",
   "execution_count": 5,
   "metadata": {},
   "outputs": [],
   "source": [
    "#Example 2:  \n",
    "# Let's save the result from ((4+5)-(14/7))*2 into the variable x and calculate the y=x*2\n",
    "x=( (4+5)-(14/7))*2\n",
    "y=x*2\n",
    "#...if you don't see any outputs, please do not panic just keep reading"
   ]
  },
  {
   "cell_type": "markdown",
   "metadata": {},
   "source": [
    "As you have noticed, while the code in _Example 1_ produced an output ( `Out[]` ), the output is suppressed in the _Example 2_. If you want to display the value of any variables, you can type the variable in the command cell. For example "
   ]
  },
  {
   "cell_type": "code",
   "execution_count": 6,
   "metadata": {},
   "outputs": [
    {
     "data": {
      "text/plain": [
       "14.0"
      ]
     },
     "execution_count": 6,
     "metadata": {},
     "output_type": "execute_result"
    }
   ],
   "source": [
    "x"
   ]
  },
  {
   "cell_type": "markdown",
   "metadata": {},
   "source": [
    "However, a better way is to use the command `print`, followed by the variable name in brackets. This command allows you to display several variables at the same time, if these are separating by a comma (`,`). For example, the code <center> `print(x,y) `</center> will display both **`x`** and **`y`**. "
   ]
  },
  {
   "cell_type": "code",
   "execution_count": 7,
   "metadata": {},
   "outputs": [
    {
     "name": "stdout",
     "output_type": "stream",
     "text": [
      "14.0 28.0\n"
     ]
    }
   ],
   "source": [
    "#Example 2:  \n",
    "# Let's save the result from ((4+5)-(14/7))*2 into the variable x and calculate the y=x*2\n",
    "x=( (4+5)-(14/7))*2\n",
    "y=x*2\n",
    "#Print both x and y\n",
    "print(x,y)"
   ]
  },
  {
   "cell_type": "markdown",
   "metadata": {},
   "source": [
    "The command **`print()`** can also display sentence if they are contained in single brackets."
   ]
  },
  {
   "cell_type": "code",
   "execution_count": 8,
   "metadata": {},
   "outputs": [
    {
     "name": "stdout",
     "output_type": "stream",
     "text": [
      "The value of x is  14.0\n"
     ]
    }
   ],
   "source": [
    "print('The value of x is ',x)"
   ]
  },
  {
   "cell_type": "markdown",
   "metadata": {},
   "source": [
    "In Python, you can create _non-numerical_ variable (named <b>string</b>) by enclosing letters in single quotes (`''`). For example, you can set a variable to contain letters, words or even sentences. \n",
    "\n",
    "For example: "
   ]
  },
  {
   "cell_type": "code",
   "execution_count": 9,
   "metadata": {},
   "outputs": [
    {
     "name": "stdout",
     "output_type": "stream",
     "text": [
      "This is a string\n"
     ]
    }
   ],
   "source": [
    "# Set s as a string\n",
    "s='This is a string'\n",
    "print(s)"
   ]
  },
  {
   "cell_type": "markdown",
   "metadata": {},
   "source": [
    "<div style=\"background-color:LAVENDER\", text-align='justify'>\n",
    "<h2> <center><FONT COLOR=\"Purple\"> Hands On </FONT> </center></h2>\n",
    "</div>\n",
    "Copy the code used in the Example 2 cell and use `print()` to display the sentence \"<b>The result is</b>\" and the value of the variable <b>`y`</b>. \n",
    "_Hints: Don't forget to enclose the words between single quotes `'The result is '` and the comma before the variable  `y`. \n",
    "\n",
    "The output of your code should be: <b>The result is 28</b>."
   ]
  },
  {
   "cell_type": "code",
   "execution_count": 10,
   "metadata": {},
   "outputs": [],
   "source": [
    "#Type your code here. "
   ]
  },
  {
   "cell_type": "markdown",
   "metadata": {},
   "source": [
    "## Objects in Python \n",
    "The real power of Python is that you can define different data structures, such as lists and data frame (more on this later). In Python, a *list* is a sequence of comma-separated values (or items) between square brackets. It can contain numbers, words or a bit of both.\n",
    "\n",
    "For example:  "
   ]
  },
  {
   "cell_type": "code",
   "execution_count": 11,
   "metadata": {
    "scrolled": true
   },
   "outputs": [
    {
     "name": "stdout",
     "output_type": "stream",
     "text": [
      "a contains [18, 25, 3, 4]\n",
      "b contains ['apple', 'orange', 'berry']\n",
      "c contains [5, 1244, 'green', 'berry', 'apple']\n"
     ]
    }
   ],
   "source": [
    "#a list of numbers\n",
    "a=[18,25,3,4]\n",
    "print( 'a contains',a)\n",
    "#a list of strings\n",
    "b=['apple','orange','berry']\n",
    "print('b contains',b)\n",
    "#a mixed list with both numbers and strings\n",
    "c=[5,1244,'green',\"berry\", 'apple']\n",
    "print('c contains',c)"
   ]
  },
  {
   "cell_type": "markdown",
   "metadata": {},
   "source": [
    "Now, you can access the content of a list by using `your_list[i]`, where `i` is just a number that indicate the position of the i-th element. For example, `your_list[0]` will show the first element in `your_list`, `your_list[1]` the second one and so on. \n",
    "\n",
    "**Important: Python starts to count from 0 and not from 1.**\n",
    "\n",
    "If you create a list of 3 elements, like `your_list=[1,2,3]`, we said that `your_list` has length 3. In Python, you can always check the length of a list by typing `len(your_list)`. This is very useful when is you don't know how many elements a list has. \n",
    " "
   ]
  },
  {
   "cell_type": "code",
   "execution_count": 12,
   "metadata": {},
   "outputs": [
    {
     "name": "stdout",
     "output_type": "stream",
     "text": [
      "The list contains 5 elements\n"
     ]
    }
   ],
   "source": [
    "your_list=[1,2,3]\n",
    "print('The list contains',len(c),'elements')"
   ]
  },
  {
   "cell_type": "markdown",
   "metadata": {},
   "source": [
    "Another important thing to keep in mind is that Python cannot access to elements that are not in your list. This means that if you try to print `your_list[4]`, asking for the fifth element, Python will print a `IndexError` pointing (see the arrow `---->`) to the line where the problem is.  \n",
    "But don't take this for granted and try yourself"
   ]
  },
  {
   "cell_type": "code",
   "execution_count": 13,
   "metadata": {},
   "outputs": [
    {
     "ename": "IndexError",
     "evalue": "list index out of range",
     "output_type": "error",
     "traceback": [
      "\u001b[0;31m---------------------------------------------------------------------------\u001b[0m",
      "\u001b[0;31mIndexError\u001b[0m                                Traceback (most recent call last)",
      "Cell \u001b[0;32mIn[13], line 2\u001b[0m\n\u001b[1;32m      1\u001b[0m your_list\u001b[38;5;241m=\u001b[39m[\u001b[38;5;241m1\u001b[39m,\u001b[38;5;241m2\u001b[39m,\u001b[38;5;241m3\u001b[39m]\n\u001b[0;32m----> 2\u001b[0m \u001b[38;5;28mprint\u001b[39m(your_list[\u001b[38;5;241m4\u001b[39m])\n",
      "\u001b[0;31mIndexError\u001b[0m: list index out of range"
     ]
    }
   ],
   "source": [
    "your_list=[1,2,3]\n",
    "print(your_list[4])"
   ]
  },
  {
   "cell_type": "markdown",
   "metadata": {},
   "source": [
    "Python can also access to the elements of a list *backwards*. This is done by using negative numbers for `i` (-1,-2, etc.). So, `your_list[-1]` is the last element, `your_list[-2]` is the second last and so on."
   ]
  },
  {
   "cell_type": "code",
   "execution_count": 14,
   "metadata": {},
   "outputs": [
    {
     "name": "stdout",
     "output_type": "stream",
     "text": [
      "first element # of a is a[0]= 18\n",
      "last element of b is b=[-1] berry\n",
      "second last element of c is c[-2]= berry\n"
     ]
    }
   ],
   "source": [
    "\n",
    "print( 'first element # of a is a[0]=', a[0]) #print the first element of a\n",
    "print('last element of b is b=[-1]', b[-1]) #alternatively you can print b[2] Check your self!^_-\n",
    "print('second last element of c is c[-2]=', c[-2])\n",
    "\n"
   ]
  },
  {
   "cell_type": "markdown",
   "metadata": {},
   "source": [
    "Python allows you to manipulate lists. For example, to add a new element `x` into your list, you can type `your_list.insert(i,x)`, where `i` is the index of the element before which to insert. To remove `x`, you can use `your_list.remove(x)`.\n",
    "\n",
    "The code below shows a few examples on how to manipulate a list.\n"
   ]
  },
  {
   "cell_type": "code",
   "execution_count": 15,
   "metadata": {},
   "outputs": [
    {
     "name": "stdout",
     "output_type": "stream",
     "text": [
      "b_new with an extra word apple  ['apple', 'orange', 'apple', 'berry']\n",
      "b_new without the word orange  ['apple', 'apple', 'berry']\n"
     ]
    }
   ],
   "source": [
    "#Manipulate a list\n",
    "b=['apple','orange','berry'];\n",
    "#define a new list 'equal ' to b.\n",
    "b_new=b  \n",
    "\n",
    "#insert an element into your_list: \n",
    "#command 'your_list.insert(before this position,element to add)\n",
    "#This will add the word 'apple' before the last element of b\n",
    "b_new.insert(-1,'apple') \n",
    "print('b_new with an extra word apple ',b_new)\n",
    "\n",
    "#This will remove the word 'orange' that appear in the list\n",
    "b_new.remove('orange') \n",
    "print('b_new without the word orange ',b_new)"
   ]
  },
  {
   "cell_type": "markdown",
   "metadata": {},
   "source": [
    "<div style=\"background-color:LAVENDER\", text-align='justify'>\n",
    "<h2> <center><FONT COLOR=\"Purple\"> Hands On </FONT> </center></h2>\n",
    "</div>\n",
    "\n",
    "Follow the instructions in the cell below and complete the code.\n",
    "\n",
    "**Important: before running it, you should first complete the code. Python cannot execute uncompleted code**.\n",
    "Alternatively, you can add a new cell (by clicking on \"+\", second icon from the left in the toolbar) and copy and paste your completed code"
   ]
  },
  {
   "cell_type": "code",
   "execution_count": 16,
   "metadata": {},
   "outputs": [
    {
     "ename": "SyntaxError",
     "evalue": "invalid syntax (4102888000.py, line 4)",
     "output_type": "error",
     "traceback": [
      "\u001b[0;36m  Cell \u001b[0;32mIn[16], line 4\u001b[0;36m\u001b[0m\n\u001b[0;31m    my_list=  #create a new list equal to the initial one\u001b[0m\n\u001b[0m              ^\u001b[0m\n\u001b[0;31mSyntaxError\u001b[0m\u001b[0;31m:\u001b[0m invalid syntax\n"
     ]
    }
   ],
   "source": [
    "initial =[33,85,-5,8,24, 3,9] #initial list\n",
    "print('initial list', initial)\n",
    "\n",
    "my_list=  #create a new list equal to the initial one\n",
    "\n",
    "x_sum=  #add the third element of my_list to the second last element.\n",
    "print ('x_sum = ' ,x_sum)\n",
    "\n",
    "my_list.insert() #insert x_sum before the fourth element of my_list\n",
    "print( 'my_list after adding x_sum is ', my_list)\n",
    "\n",
    "my_list.remove(3)#now remove the value 3 from my_list\n",
    "print( 'At the end my_list looks like', my_list)"
   ]
  },
  {
   "cell_type": "markdown",
   "metadata": {},
   "source": [
    "**Check Your Results**\n",
    "\n",
    "Let's proceed step by step and check your results. \n",
    "\n",
    "The first instruction asks you to create a list equal to the one given. You need to manipulate the list, so it is good practice keep the original as a reference.\n",
    "\n",
    "The next step is to sum two elements of the new list. If you are not sure how to do this Go back to [Python as Calculator](#as_calculator). \n",
    "After running, the code prints `x_sum=` followed by your result. \n",
    "If everything is correct, you should see\n",
    "\n",
    "<center> <b>`x_sum= -2`</b>, </center>\n",
    "\n",
    "as the instructions ask you to calculate the sum of the <b>third</b> and <b>second last</b> element. \n",
    "\n",
    "On the other hand, if you see \n",
    "<center> <b>`x_sum= 17`</b>  or  <b>`x_sum= 11`</b> or <b>`x_sum= 4`</b>, </center> \n",
    "\n",
    "it means that your code is almost correct, but you've chosen the wrong elements for sum. Remember: Python <b>starts counting from 0</b> and that the index <b>-1</b> accesses to the <b>last</b> element.  \n",
    "\n",
    "<br>\n",
    "Once you calculate `x_sum`, you need to insert it into `my_list`, at the position indicated in the text. The code should print\n",
    "<center> <b>`my_list after adding x_sum is  [33, 85, -5, -2, 8, 24, 3, 9]`</b>.</center>\n",
    "If your answer is different, check at which position the value of x_sum is printed. This will give you a hint on where the problem could be.  \n",
    "Remember that the `.insert()` module needs to know: the position before which you want insert the value and the actual value. If you want to insert the value \"4\" before the last element (index 3) you should type `my_list.insert(3,4)` (remember that Python starts counting from 0). \n",
    "<br>\n",
    "After removing the number 3 from `my_list`, your list is\n",
    "<center> <b>`At the end my_list looks like [33, 85, -5, -2, 8, 24, 9]`</b>.</center>"
   ]
  },
  {
   "cell_type": "code",
   "execution_count": null,
   "metadata": {},
   "outputs": [],
   "source": []
  },
  {
   "cell_type": "code",
   "execution_count": null,
   "metadata": {},
   "outputs": [],
   "source": []
  }
 ],
 "metadata": {
  "kernelspec": {
   "display_name": "onetree",
   "language": "python",
   "name": "onetree"
  },
  "language_info": {
   "codemirror_mode": {
    "name": "ipython",
    "version": 3
   },
   "file_extension": ".py",
   "mimetype": "text/x-python",
   "name": "python",
   "nbconvert_exporter": "python",
   "pygments_lexer": "ipython3",
   "version": "3.11.5"
  }
 },
 "nbformat": 4,
 "nbformat_minor": 2
}
